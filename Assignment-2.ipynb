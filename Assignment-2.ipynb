{
 "cells": [
  {
   "cell_type": "markdown",
   "id": "469dddd6-8561-41c3-b797-8ce541a62caa",
   "metadata": {},
   "source": [
    "Q1. How do you comment code in Python? What are the different types of comments?\n",
    "\n",
    "Comments in Python are identified with a hash symbol, #, and extend to the end of the line and\n",
    "single-line comments,\n",
    "multi-line comments"
   ]
  },
  {
   "cell_type": "markdown",
   "id": "beca8917-f108-4c58-a056-d7065c85367d",
   "metadata": {},
   "source": [
    "Q2. What are variables in Python? How do you declare and assign values to variables?"
   ]
  },
  {
   "cell_type": "code",
   "execution_count": 1,
   "id": "8a5f5725-c303-40c4-b083-74ad53c8932d",
   "metadata": {},
   "outputs": [
    {
     "data": {
      "text/plain": [
       "'Technically, the variable acts as an address for where the data is stored in memory\\nA Python variable may be assigned a value of one type and then later re-assigned a value of a different type \\nFor example, x = \"suraaj\" can later be x = 5\\n'"
      ]
     },
     "execution_count": 1,
     "metadata": {},
     "output_type": "execute_result"
    }
   ],
   "source": [
    "'''Technically, the variable acts as an address for where the data is stored in memory\n",
    "A Python variable may be assigned a value of one type and then later re-assigned a value of a different type \n",
    "For example, x = \"suraaj\" can later be x = 5\n",
    "'''"
   ]
  },
  {
   "cell_type": "markdown",
   "id": "f488eff4-381b-4d03-9e7d-00fc6b5a712c",
   "metadata": {},
   "source": [
    "Q3. How do you convert one data type to another in Python?"
   ]
  },
  {
   "cell_type": "code",
   "execution_count": 2,
   "id": "8b350984-56c7-4840-9aa5-f5f8cddaf912",
   "metadata": {},
   "outputs": [],
   "source": [
    "a = 546789"
   ]
  },
  {
   "cell_type": "code",
   "execution_count": 3,
   "id": "2a2e4f92-0833-49b1-8127-fa921ff664e2",
   "metadata": {},
   "outputs": [],
   "source": [
    "b = float(a)"
   ]
  },
  {
   "cell_type": "code",
   "execution_count": 4,
   "id": "27970e02-b191-405b-933b-64425489dac6",
   "metadata": {},
   "outputs": [
    {
     "data": {
      "text/plain": [
       "546789.0"
      ]
     },
     "execution_count": 4,
     "metadata": {},
     "output_type": "execute_result"
    }
   ],
   "source": [
    "b"
   ]
  },
  {
   "cell_type": "code",
   "execution_count": 5,
   "id": "98878ec2-133b-42a3-8a75-f987dd4e8835",
   "metadata": {},
   "outputs": [],
   "source": [
    "c = str(a)"
   ]
  },
  {
   "cell_type": "code",
   "execution_count": 6,
   "id": "3b1f5063-63a5-4b93-a711-038aea7533df",
   "metadata": {},
   "outputs": [
    {
     "data": {
      "text/plain": [
       "'546789'"
      ]
     },
     "execution_count": 6,
     "metadata": {},
     "output_type": "execute_result"
    }
   ],
   "source": [
    "c"
   ]
  },
  {
   "cell_type": "markdown",
   "id": "def1beee-e3ac-4036-8ffd-6145473bfebb",
   "metadata": {},
   "source": [
    "Q4. How do you write and execute a Python script from the command line?"
   ]
  },
  {
   "cell_type": "code",
   "execution_count": 9,
   "id": "2f7cf446-1378-4607-8501-1f52b79fa1f0",
   "metadata": {},
   "outputs": [
    {
     "name": "stdout",
     "output_type": "stream",
     "text": [
      "My name is Suraaj\n"
     ]
    }
   ],
   "source": [
    "name = \"Suraaj\"\n",
    "print(\"My name is \" + name)"
   ]
  },
  {
   "cell_type": "markdown",
   "id": "250be594-2902-4d9a-a44a-903ceab75033",
   "metadata": {},
   "source": [
    "Q5. Given a list my_list = [1, 2, 3, 4, 5], write the code to slice the list and obtain the sub-list [2, 3]."
   ]
  },
  {
   "cell_type": "code",
   "execution_count": 10,
   "id": "6765c284-92da-4efe-9b29-b423bfbcb74a",
   "metadata": {},
   "outputs": [],
   "source": [
    "my_list=[1,2,3,4,5]"
   ]
  },
  {
   "cell_type": "code",
   "execution_count": 15,
   "id": "e36d7c2f-de75-4b4b-b855-6fde0ec50a11",
   "metadata": {},
   "outputs": [
    {
     "data": {
      "text/plain": [
       "[2, 3]"
      ]
     },
     "execution_count": 15,
     "metadata": {},
     "output_type": "execute_result"
    }
   ],
   "source": [
    "my_list[1:3]"
   ]
  },
  {
   "cell_type": "markdown",
   "id": "afed4fb2-bd07-4ed3-9c8d-1b9726ee20c3",
   "metadata": {},
   "source": [
    "Q6. What is a complex number in mathematics, and how is it represented in Python?"
   ]
  },
  {
   "cell_type": "code",
   "execution_count": 16,
   "id": "a958f3b8-55c8-4c86-9e5b-31dfd907c19c",
   "metadata": {},
   "outputs": [],
   "source": [
    "#Complex number in mathamatics 2+5i\n",
    "# we represent complex number in python is 2+5j"
   ]
  },
  {
   "cell_type": "code",
   "execution_count": 18,
   "id": "7a38e580-3600-4fda-a884-190cd81a9ed1",
   "metadata": {},
   "outputs": [],
   "source": [
    "# for example \n",
    "s = 2+5j"
   ]
  },
  {
   "cell_type": "code",
   "execution_count": 19,
   "id": "0710f63f-7429-4a49-b25a-68a3c650e9d1",
   "metadata": {},
   "outputs": [
    {
     "data": {
      "text/plain": [
       "(2+5j)"
      ]
     },
     "execution_count": 19,
     "metadata": {},
     "output_type": "execute_result"
    }
   ],
   "source": [
    "s"
   ]
  },
  {
   "cell_type": "code",
   "execution_count": 20,
   "id": "ccf902f9-edab-4a0a-b0b9-ea36053fd1f0",
   "metadata": {},
   "outputs": [
    {
     "data": {
      "text/plain": [
       "complex"
      ]
     },
     "execution_count": 20,
     "metadata": {},
     "output_type": "execute_result"
    }
   ],
   "source": [
    "type(s)"
   ]
  },
  {
   "cell_type": "markdown",
   "id": "19d62254-0c0d-4143-bca6-0ef0477035ad",
   "metadata": {},
   "source": [
    "Q7. What is the correct way to declare a variable named age and assign the value 25 to it?"
   ]
  },
  {
   "cell_type": "code",
   "execution_count": 21,
   "id": "943dcfae-c121-416f-8e88-2c0318f15927",
   "metadata": {},
   "outputs": [],
   "source": [
    "age = 25"
   ]
  },
  {
   "cell_type": "markdown",
   "id": "979db9e4-2142-4fd3-a2c3-468c5bd2b603",
   "metadata": {},
   "source": [
    "Q8. Declare a variable named price and assign the value 9.99 to it. What data type does this variable\n",
    "belong to?"
   ]
  },
  {
   "cell_type": "code",
   "execution_count": 22,
   "id": "2c7921f1-e544-4675-bf3e-86e0bc40451d",
   "metadata": {},
   "outputs": [],
   "source": [
    "price = 9.99"
   ]
  },
  {
   "cell_type": "code",
   "execution_count": 23,
   "id": "503c2447-1a08-4844-9c82-2880cbc757d0",
   "metadata": {},
   "outputs": [
    {
     "data": {
      "text/plain": [
       "float"
      ]
     },
     "execution_count": 23,
     "metadata": {},
     "output_type": "execute_result"
    }
   ],
   "source": [
    "type(price)"
   ]
  },
  {
   "cell_type": "markdown",
   "id": "3db53b40-7477-4057-804f-ec40d91bc337",
   "metadata": {},
   "source": [
    "Q9. Create a variable named name and assign your full name to it as a string. How would you print the\n",
    "value of this variable?"
   ]
  },
  {
   "cell_type": "code",
   "execution_count": 24,
   "id": "5745a438-7ac5-48f8-b41b-4972adacf079",
   "metadata": {},
   "outputs": [],
   "source": [
    "name = \"suraaj singh\""
   ]
  },
  {
   "cell_type": "code",
   "execution_count": 25,
   "id": "caaf16b4-a437-4ffa-b346-ddd4e64375a5",
   "metadata": {},
   "outputs": [
    {
     "name": "stdout",
     "output_type": "stream",
     "text": [
      "suraaj singh\n"
     ]
    }
   ],
   "source": [
    "print(name)"
   ]
  },
  {
   "cell_type": "markdown",
   "id": "b9ccd806-71a5-4dba-9f7e-093a3ec5f54c",
   "metadata": {},
   "source": [
    "Q10. Given the string \"Hello, World!\", extract the substring \"World\"."
   ]
  },
  {
   "cell_type": "code",
   "execution_count": 26,
   "id": "c79bc5db-eca3-4376-a758-a291b2b01b6e",
   "metadata": {},
   "outputs": [],
   "source": [
    "s = \"Hello, World\""
   ]
  },
  {
   "cell_type": "code",
   "execution_count": 28,
   "id": "0973e33b-ed3c-484e-947d-72a4cff2f4a2",
   "metadata": {},
   "outputs": [
    {
     "data": {
      "text/plain": [
       "'World'"
      ]
     },
     "execution_count": 28,
     "metadata": {},
     "output_type": "execute_result"
    }
   ],
   "source": [
    "s[7:12]"
   ]
  },
  {
   "cell_type": "markdown",
   "id": "b8cb38da-7e23-4044-b758-22fb5bec8db5",
   "metadata": {},
   "source": [
    "Q11. Create a variable named \"is_student\" and assign it a boolean value indicating whether you are\n",
    "currently a student or not."
   ]
  },
  {
   "cell_type": "code",
   "execution_count": 31,
   "id": "f758349c-025c-443f-9841-eca89d5f2852",
   "metadata": {},
   "outputs": [],
   "source": [
    "is_student = True"
   ]
  },
  {
   "cell_type": "code",
   "execution_count": 32,
   "id": "28267518-c5dd-4ada-82e8-948f025a86c1",
   "metadata": {},
   "outputs": [
    {
     "name": "stdout",
     "output_type": "stream",
     "text": [
      "True\n"
     ]
    }
   ],
   "source": [
    "print(is_student)"
   ]
  },
  {
   "cell_type": "code",
   "execution_count": null,
   "id": "e2866b6a-12b8-4e76-9de3-5a5e8ad78360",
   "metadata": {},
   "outputs": [],
   "source": []
  }
 ],
 "metadata": {
  "kernelspec": {
   "display_name": "Python 3 (ipykernel)",
   "language": "python",
   "name": "python3"
  },
  "language_info": {
   "codemirror_mode": {
    "name": "ipython",
    "version": 3
   },
   "file_extension": ".py",
   "mimetype": "text/x-python",
   "name": "python",
   "nbconvert_exporter": "python",
   "pygments_lexer": "ipython3",
   "version": "3.10.8"
  }
 },
 "nbformat": 4,
 "nbformat_minor": 5
}
